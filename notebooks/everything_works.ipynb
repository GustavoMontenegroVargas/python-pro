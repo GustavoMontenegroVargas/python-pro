{
 "cells": [
  {
   "cell_type": "code",
   "execution_count": null,
   "id": "a8d9991d",
   "metadata": {},
   "outputs": [],
   "source": [
    "%load_ext autoreload\n",
    "%autoreload 2\n",
    "\n",
    "#These extensions are used for Jupyter Notebooks to recognize\n",
    "#python scripts changes. Set them at the beginning of your notebooks.\n",
    "\n",
    "#By default, Jupyter Notebooks do not reload\n",
    "#the scripts when they are modified. \n",
    "#This is not necessary when running the scripts from the command line.\n",
    "\n",
    "#If not working when running this cell, try;\n",
    "\n",
    "#uv pip show uninstall autoreload\n",
    "#Restart the kernel & run again the code."
   ]
  },
  {
   "cell_type": "code",
   "execution_count": 1,
   "id": "c4ba15e5",
   "metadata": {},
   "outputs": [
    {
     "name": "stdout",
     "output_type": "stream",
     "text": [
      "Hello, world!\n"
     ]
    }
   ],
   "source": [
    "from src import test_module\n",
    "\n",
    "test_module.hello_world()"
   ]
  },
  {
   "cell_type": "code",
   "execution_count": 2,
   "id": "87f329a8",
   "metadata": {},
   "outputs": [
    {
     "data": {
      "text/plain": [
       "'python-pro'"
      ]
     },
     "execution_count": 2,
     "metadata": {},
     "output_type": "execute_result"
    }
   ],
   "source": [
    "from consts import PROJET_NAME\n",
    "\n",
    "PROJET_NAME"
   ]
  },
  {
   "cell_type": "code",
   "execution_count": null,
   "id": "9bfbc268",
   "metadata": {},
   "outputs": [],
   "source": []
  }
 ],
 "metadata": {
  "kernelspec": {
   "display_name": ".venv",
   "language": "python",
   "name": "python3"
  },
  "language_info": {
   "codemirror_mode": {
    "name": "ipython",
    "version": 3
   },
   "file_extension": ".py",
   "mimetype": "text/x-python",
   "name": "python",
   "nbconvert_exporter": "python",
   "pygments_lexer": "ipython3",
   "version": "3.12.9"
  }
 },
 "nbformat": 4,
 "nbformat_minor": 5
}
